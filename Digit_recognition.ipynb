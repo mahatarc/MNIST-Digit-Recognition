{
 "cells": [
  {
   "cell_type": "code",
   "execution_count": 3,
   "metadata": {
    "_cell_guid": "b1076dfc-b9ad-4769-8c92-a6c4dae69d19",
    "_uuid": "8f2839f25d086af736a60e9eeb907d3b93b6e0e5",
    "execution": {
     "iopub.execute_input": "2025-03-22T11:31:30.956707Z",
     "iopub.status.busy": "2025-03-22T11:31:30.956432Z",
     "iopub.status.idle": "2025-03-22T11:31:37.315530Z",
     "shell.execute_reply": "2025-03-22T11:31:37.314799Z",
     "shell.execute_reply.started": "2025-03-22T11:31:30.956681Z"
    },
    "trusted": true
   },
   "outputs": [],
   "source": [
    "import os\n",
    "import matplotlib\n",
    "import matplotlib.pyplot as plt\n",
    "import numpy as np\n",
    "import pandas as pd\n",
    "import PIL\n",
    "import torch\n",
    "import torch.nn as nn\n",
    "import torch.optim as optim\n",
    "import torchvision\n",
    "from sklearn.metrics import ConfusionMatrixDisplay, confusion_matrix\n",
    "from torch.utils.data import DataLoader, random_split\n",
    "from torchinfo import summary\n",
    "from torchvision import datasets, transforms\n",
    "import sys"
   ]
  },
  {
   "cell_type": "code",
   "execution_count": 4,
   "metadata": {
    "execution": {
     "iopub.execute_input": "2025-03-22T11:31:37.317186Z",
     "iopub.status.busy": "2025-03-22T11:31:37.316719Z",
     "iopub.status.idle": "2025-03-22T11:31:37.324620Z",
     "shell.execute_reply": "2025-03-22T11:31:37.323290Z",
     "shell.execute_reply.started": "2025-03-22T11:31:37.317151Z"
    },
    "trusted": true
   },
   "outputs": [
    {
     "name": "stdout",
     "output_type": "stream",
     "text": [
      "Platform: linux\n",
      "Python version: 3.10.12 (main, Nov  6 2024, 20:22:13) [GCC 11.4.0]\n",
      "---\n",
      "matplotlib version: 3.7.5\n",
      "pandas version: 2.2.3\n",
      "PIL version: 11.0.0\n",
      "torch version: 2.5.1+cu121\n",
      "torchvision version: 0.20.1+cu121\n"
     ]
    }
   ],
   "source": [
    "print(\"Platform:\", sys.platform)\n",
    "print(\"Python version:\", sys.version)\n",
    "print(\"---\")\n",
    "print(\"matplotlib version:\", matplotlib.__version__)\n",
    "print(\"pandas version:\", pd.__version__)\n",
    "print(\"PIL version:\", PIL.__version__)\n",
    "print(\"torch version:\", torch.__version__)\n",
    "print(\"torchvision version:\", torchvision.__version__)"
   ]
  },
  {
   "cell_type": "markdown",
   "metadata": {},
   "source": [
    "# Load the data from mnist using pytorch"
   ]
  },
  {
   "cell_type": "code",
   "execution_count": 5,
   "metadata": {
    "execution": {
     "iopub.execute_input": "2025-03-22T11:31:37.326215Z",
     "iopub.status.busy": "2025-03-22T11:31:37.325971Z",
     "iopub.status.idle": "2025-03-22T11:31:37.340215Z",
     "shell.execute_reply": "2025-03-22T11:31:37.339440Z",
     "shell.execute_reply.started": "2025-03-22T11:31:37.326195Z"
    },
    "trusted": true
   },
   "outputs": [],
   "source": [
    "from PIL import Image\n",
    "\n",
    "class ConvertToGray:\n",
    "    def __call__(self, img):\n",
    "        if img.mode != \"L\":\n",
    "            img = img.convert(\"L\")\n",
    "        return img"
   ]
  },
  {
   "cell_type": "code",
   "execution_count": 6,
   "metadata": {
    "execution": {
     "iopub.execute_input": "2025-03-22T11:31:37.341769Z",
     "iopub.status.busy": "2025-03-22T11:31:37.341474Z",
     "iopub.status.idle": "2025-03-22T11:31:37.353656Z",
     "shell.execute_reply": "2025-03-22T11:31:37.352884Z",
     "shell.execute_reply.started": "2025-03-22T11:31:37.341739Z"
    },
    "trusted": true
   },
   "outputs": [],
   "source": [
    "transform = transforms.Compose(\n",
    "    [\n",
    "        ConvertToGray(),\n",
    "        transforms.Resize((28, 28)),\n",
    "        transforms.ToTensor(),\n",
    "    ]\n",
    ")"
   ]
  },
  {
   "cell_type": "code",
   "execution_count": 7,
   "metadata": {
    "execution": {
     "iopub.execute_input": "2025-03-22T11:31:37.354638Z",
     "iopub.status.busy": "2025-03-22T11:31:37.354362Z",
     "iopub.status.idle": "2025-03-22T11:31:41.475857Z",
     "shell.execute_reply": "2025-03-22T11:31:41.474961Z",
     "shell.execute_reply.started": "2025-03-22T11:31:37.354600Z"
    },
    "trusted": true
   },
   "outputs": [
    {
     "name": "stdout",
     "output_type": "stream",
     "text": [
      "Downloading http://yann.lecun.com/exdb/mnist/train-images-idx3-ubyte.gz\n",
      "Failed to download (trying next):\n",
      "HTTP Error 404: Not Found\n",
      "\n",
      "Downloading https://ossci-datasets.s3.amazonaws.com/mnist/train-images-idx3-ubyte.gz\n",
      "Downloading https://ossci-datasets.s3.amazonaws.com/mnist/train-images-idx3-ubyte.gz to ./data/MNIST/raw/train-images-idx3-ubyte.gz\n"
     ]
    },
    {
     "name": "stderr",
     "output_type": "stream",
     "text": [
      "100%|██████████| 9.91M/9.91M [00:00<00:00, 16.8MB/s]\n"
     ]
    },
    {
     "name": "stdout",
     "output_type": "stream",
     "text": [
      "Extracting ./data/MNIST/raw/train-images-idx3-ubyte.gz to ./data/MNIST/raw\n",
      "\n",
      "Downloading http://yann.lecun.com/exdb/mnist/train-labels-idx1-ubyte.gz\n",
      "Failed to download (trying next):\n",
      "HTTP Error 404: Not Found\n",
      "\n",
      "Downloading https://ossci-datasets.s3.amazonaws.com/mnist/train-labels-idx1-ubyte.gz\n",
      "Downloading https://ossci-datasets.s3.amazonaws.com/mnist/train-labels-idx1-ubyte.gz to ./data/MNIST/raw/train-labels-idx1-ubyte.gz\n"
     ]
    },
    {
     "name": "stderr",
     "output_type": "stream",
     "text": [
      "100%|██████████| 28.9k/28.9k [00:00<00:00, 449kB/s]\n"
     ]
    },
    {
     "name": "stdout",
     "output_type": "stream",
     "text": [
      "Extracting ./data/MNIST/raw/train-labels-idx1-ubyte.gz to ./data/MNIST/raw\n",
      "\n",
      "Downloading http://yann.lecun.com/exdb/mnist/t10k-images-idx3-ubyte.gz\n",
      "Failed to download (trying next):\n",
      "HTTP Error 404: Not Found\n",
      "\n",
      "Downloading https://ossci-datasets.s3.amazonaws.com/mnist/t10k-images-idx3-ubyte.gz\n",
      "Downloading https://ossci-datasets.s3.amazonaws.com/mnist/t10k-images-idx3-ubyte.gz to ./data/MNIST/raw/t10k-images-idx3-ubyte.gz\n"
     ]
    },
    {
     "name": "stderr",
     "output_type": "stream",
     "text": [
      "100%|██████████| 1.65M/1.65M [00:00<00:00, 4.17MB/s]\n"
     ]
    },
    {
     "name": "stdout",
     "output_type": "stream",
     "text": [
      "Extracting ./data/MNIST/raw/t10k-images-idx3-ubyte.gz to ./data/MNIST/raw\n",
      "\n",
      "Downloading http://yann.lecun.com/exdb/mnist/t10k-labels-idx1-ubyte.gz\n",
      "Failed to download (trying next):\n",
      "HTTP Error 404: Not Found\n",
      "\n",
      "Downloading https://ossci-datasets.s3.amazonaws.com/mnist/t10k-labels-idx1-ubyte.gz\n",
      "Downloading https://ossci-datasets.s3.amazonaws.com/mnist/t10k-labels-idx1-ubyte.gz to ./data/MNIST/raw/t10k-labels-idx1-ubyte.gz\n"
     ]
    },
    {
     "name": "stderr",
     "output_type": "stream",
     "text": [
      "100%|██████████| 4.54k/4.54k [00:00<00:00, 6.02MB/s]"
     ]
    },
    {
     "name": "stdout",
     "output_type": "stream",
     "text": [
      "Extracting ./data/MNIST/raw/t10k-labels-idx1-ubyte.gz to ./data/MNIST/raw\n",
      "\n"
     ]
    },
    {
     "name": "stderr",
     "output_type": "stream",
     "text": [
      "\n"
     ]
    }
   ],
   "source": [
    "dataset = datasets.MNIST(root='./data', train=True, download=True, transform=transform)"
   ]
  },
  {
   "cell_type": "code",
   "execution_count": 8,
   "metadata": {
    "execution": {
     "iopub.execute_input": "2025-03-22T11:31:41.477062Z",
     "iopub.status.busy": "2025-03-22T11:31:41.476757Z",
     "iopub.status.idle": "2025-03-22T11:31:41.501221Z",
     "shell.execute_reply": "2025-03-22T11:31:41.500599Z",
     "shell.execute_reply.started": "2025-03-22T11:31:41.477040Z"
    },
    "trusted": true
   },
   "outputs": [
    {
     "name": "stdout",
     "output_type": "stream",
     "text": [
      "Min pixel value: 0.0\n",
      "Max pixel value: 1.0\n",
      "Label: 0\n"
     ]
    }
   ],
   "source": [
    "# Convert an image to a NumPy array\n",
    "image, label = dataset[1000]\n",
    "image_array = np.array(image)\n",
    "\n",
    "# Print min and max pixel values of the image\n",
    "print(\"Min pixel value:\", image_array.min())  \n",
    "print(\"Max pixel value:\", image_array.max()) \n",
    "\n",
    "# Print the label of the image\n",
    "print(\"Label:\", label)"
   ]
  },
  {
   "cell_type": "markdown",
   "metadata": {},
   "source": [
    "#### Since  min pixel value is 0.0 and max pixel value is 1.0, it means the pixel values are already normalized to the range [0,1]."
   ]
  },
  {
   "cell_type": "code",
   "execution_count": 9,
   "metadata": {
    "execution": {
     "iopub.execute_input": "2025-03-22T11:31:41.502429Z",
     "iopub.status.busy": "2025-03-22T11:31:41.501999Z",
     "iopub.status.idle": "2025-03-22T11:31:41.519112Z",
     "shell.execute_reply": "2025-03-22T11:31:41.518385Z",
     "shell.execute_reply.started": "2025-03-22T11:31:41.502393Z"
    },
    "trusted": true
   },
   "outputs": [
    {
     "name": "stdout",
     "output_type": "stream",
     "text": [
      "Classes:\n",
      "['0 - zero', '1 - one', '2 - two', '3 - three', '4 - four', '5 - five', '6 - six', '7 - seven', '8 - eight', '9 - nine']\n",
      "That's 10 classes\n"
     ]
    }
   ],
   "source": [
    "print(\"Classes:\")\n",
    "print(dataset.classes)\n",
    "print(f\"That's {len(dataset.classes)} classes\")"
   ]
  },
  {
   "cell_type": "code",
   "execution_count": 10,
   "metadata": {
    "execution": {
     "iopub.execute_input": "2025-03-22T11:31:41.521414Z",
     "iopub.status.busy": "2025-03-22T11:31:41.521193Z",
     "iopub.status.idle": "2025-03-22T11:31:41.533548Z",
     "shell.execute_reply": "2025-03-22T11:31:41.532722Z",
     "shell.execute_reply.started": "2025-03-22T11:31:41.521394Z"
    },
    "trusted": true
   },
   "outputs": [
    {
     "name": "stdout",
     "output_type": "stream",
     "text": [
      "Total number of samples in the dataset: 60000\n"
     ]
    }
   ],
   "source": [
    "print(\"Total number of samples in the dataset:\", len(dataset))"
   ]
  },
  {
   "cell_type": "code",
   "execution_count": 11,
   "metadata": {
    "execution": {
     "iopub.execute_input": "2025-03-22T11:31:41.535045Z",
     "iopub.status.busy": "2025-03-22T11:31:41.534752Z",
     "iopub.status.idle": "2025-03-22T11:31:41.549268Z",
     "shell.execute_reply": "2025-03-22T11:31:41.548451Z",
     "shell.execute_reply.started": "2025-03-22T11:31:41.535023Z"
    },
    "trusted": true
   },
   "outputs": [
    {
     "name": "stdout",
     "output_type": "stream",
     "text": [
      "Shape of the image: torch.Size([1, 28, 28])\n"
     ]
    }
   ],
   "source": [
    "image, label = dataset[10] \n",
    "print(\"Shape of the image:\", image.shape)\n"
   ]
  },
  {
   "cell_type": "code",
   "execution_count": 12,
   "metadata": {
    "execution": {
     "iopub.execute_input": "2025-03-22T11:31:41.550272Z",
     "iopub.status.busy": "2025-03-22T11:31:41.550056Z",
     "iopub.status.idle": "2025-03-22T11:31:41.562360Z",
     "shell.execute_reply": "2025-03-22T11:31:41.561543Z",
     "shell.execute_reply.started": "2025-03-22T11:31:41.550254Z"
    },
    "trusted": true
   },
   "outputs": [],
   "source": [
    "batch_size = 32\n",
    "dataset_loader = DataLoader(dataset,batch_size=32)"
   ]
  },
  {
   "cell_type": "code",
   "execution_count": 13,
   "metadata": {
    "execution": {
     "iopub.execute_input": "2025-03-22T11:31:41.563401Z",
     "iopub.status.busy": "2025-03-22T11:31:41.563156Z",
     "iopub.status.idle": "2025-03-22T11:31:41.593854Z",
     "shell.execute_reply": "2025-03-22T11:31:41.593279Z",
     "shell.execute_reply.started": "2025-03-22T11:31:41.563375Z"
    },
    "trusted": true
   },
   "outputs": [
    {
     "name": "stdout",
     "output_type": "stream",
     "text": [
      "Shape of one batch: torch.Size([32, 1, 28, 28])\n",
      "Shape of labels: torch.Size([32])\n"
     ]
    }
   ],
   "source": [
    "# Get one batch\n",
    "first_batch = next(iter(dataset_loader))\n",
    "\n",
    "print(f\"Shape of one batch: {first_batch[0].shape}\")\n",
    "print(f\"Shape of labels: {first_batch[1].shape}\")"
   ]
  },
  {
   "cell_type": "code",
   "execution_count": 14,
   "metadata": {
    "execution": {
     "iopub.execute_input": "2025-03-22T11:31:41.594713Z",
     "iopub.status.busy": "2025-03-22T11:31:41.594516Z",
     "iopub.status.idle": "2025-03-22T11:31:41.758863Z",
     "shell.execute_reply": "2025-03-22T11:31:41.758091Z",
     "shell.execute_reply.started": "2025-03-22T11:31:41.594695Z"
    },
    "trusted": true
   },
   "outputs": [
    {
     "data": {
      "image/png": "[encoded data removed]",
      "text/plain": [
       "<Figure size 640x480 with 1 Axes>"
      ]
     },
     "metadata": {},
     "output_type": "display_data"
    }
   ],
   "source": [
    "images, labels = next(iter(dataset_loader))\n",
    "\n",
    "image = images[31]\n",
    "label = labels[31]\n",
    "\n",
    "# Convert the image to numpy for visualization (remove the channel dimension)\n",
    "image_np = image.numpy().squeeze() \n",
    "\n",
    "# Plot the image\n",
    "plt.imshow(image_np, cmap='gray')  # Use 'gray' colormap for grayscale images\n",
    "plt.title(f\"Label: {label.item()}\")  \n",
    "plt.axis('off')  # Turn off axis\n",
    "plt.show()\n"
   ]
  },
  {
   "cell_type": "code",
   "execution_count": 15,
   "metadata": {
    "execution": {
     "iopub.execute_input": "2025-03-22T11:31:41.759968Z",
     "iopub.status.busy": "2025-03-22T11:31:41.759666Z",
     "iopub.status.idle": "2025-03-22T11:31:41.764421Z",
     "shell.execute_reply": "2025-03-22T11:31:41.763770Z",
     "shell.execute_reply.started": "2025-03-22T11:31:41.759943Z"
    },
    "trusted": true
   },
   "outputs": [],
   "source": [
    "def get_mean_std(data_loader):\n",
    "    \n",
    "    channels_sum, channels_squared_sum, num_batches = 0, 0, 0\n",
    "    for data, _ in (data_loader):\n",
    "        \n",
    "        channels_sum += torch.mean(data, dim=[0, 2, 3])  # Mean along batch and spatial dims\n",
    "        channels_squared_sum += torch.mean(data**2, dim=[0, 2, 3])  # Mean of squared values\n",
    "        num_batches += 1\n",
    "    \n",
    "    # Calculate the mean and std by averaging across all batches\n",
    "    mean = channels_sum / num_batches\n",
    "    std = (channels_squared_sum / num_batches - mean**2) ** 0.5\n",
    "\n",
    "    return mean, std\n"
   ]
  },
  {
   "cell_type": "markdown",
   "metadata": {},
   "source": [
    "#### Neural networks generally perform best when the data has a mean of 0 and a standard deviation of 1."
   ]
  },
  {
   "cell_type": "code",
   "execution_count": 16,
   "metadata": {
    "execution": {
     "iopub.execute_input": "2025-03-22T11:31:41.765652Z",
     "iopub.status.busy": "2025-03-22T11:31:41.765362Z",
     "iopub.status.idle": "2025-03-22T11:31:48.909497Z",
     "shell.execute_reply": "2025-03-22T11:31:48.908803Z",
     "shell.execute_reply.started": "2025-03-22T11:31:41.765623Z"
    },
    "trusted": true
   },
   "outputs": [
    {
     "name": "stdout",
     "output_type": "stream",
     "text": [
      "Mean: tensor([0.1307])\n",
      "Standard deviation: tensor([0.3081])\n"
     ]
    }
   ],
   "source": [
    "mean, std = get_mean_std(dataset_loader)\n",
    "\n",
    "print(f\"Mean: {mean}\")\n",
    "print(f\"Standard deviation: {std}\")"
   ]
  },
  {
   "cell_type": "code",
   "execution_count": 17,
   "metadata": {
    "execution": {
     "iopub.execute_input": "2025-03-22T11:31:48.910406Z",
     "iopub.status.busy": "2025-03-22T11:31:48.910191Z",
     "iopub.status.idle": "2025-03-22T11:31:48.921327Z",
     "shell.execute_reply": "2025-03-22T11:31:48.920481Z",
     "shell.execute_reply.started": "2025-03-22T11:31:48.910388Z"
    },
    "trusted": true
   },
   "outputs": [
    {
     "name": "stdout",
     "output_type": "stream",
     "text": [
      "Training data set size: 48000\n",
      "Validation data set size: 12000\n"
     ]
    }
   ],
   "source": [
    "train_dataset, val_dataset = random_split(dataset,([0.8,0.2]))\n",
    "print(\"Training data set size:\", len(train_dataset))\n",
    "print(\"Validation data set size:\", len(val_dataset))"
   ]
  },
  {
   "cell_type": "code",
   "execution_count": 18,
   "metadata": {
    "execution": {
     "iopub.execute_input": "2025-03-22T11:31:48.922512Z",
     "iopub.status.busy": "2025-03-22T11:31:48.922238Z",
     "iopub.status.idle": "2025-03-22T11:31:48.930196Z",
     "shell.execute_reply": "2025-03-22T11:31:48.929454Z",
     "shell.execute_reply.started": "2025-03-22T11:31:48.922480Z"
    },
    "trusted": true
   },
   "outputs": [],
   "source": [
    "batch_size = 32\n",
    "\n",
    "train_loader = DataLoader(train_dataset,batch_size=batch_size,shuffle=True)\n",
    "\n",
    "val_loader = DataLoader(val_dataset,batch_size=batch_size)"
   ]
  },
  {
   "cell_type": "markdown",
   "metadata": {},
   "source": [
    "# Build Model"
   ]
  },
  {
   "cell_type": "code",
   "execution_count": 19,
   "metadata": {
    "execution": {
     "iopub.execute_input": "2025-03-22T11:31:48.931209Z",
     "iopub.status.busy": "2025-03-22T11:31:48.930912Z",
     "iopub.status.idle": "2025-03-22T11:31:48.944512Z",
     "shell.execute_reply": "2025-03-22T11:31:48.943857Z",
     "shell.execute_reply.started": "2025-03-22T11:31:48.931181Z"
    },
    "trusted": true
   },
   "outputs": [],
   "source": [
    "model = nn.Sequential()"
   ]
  },
  {
   "cell_type": "code",
   "execution_count": 20,
   "metadata": {
    "execution": {
     "iopub.execute_input": "2025-03-22T11:31:48.945358Z",
     "iopub.status.busy": "2025-03-22T11:31:48.945172Z",
     "iopub.status.idle": "2025-03-22T11:31:48.962840Z",
     "shell.execute_reply": "2025-03-22T11:31:48.962202Z",
     "shell.execute_reply.started": "2025-03-22T11:31:48.945341Z"
    },
    "trusted": true
   },
   "outputs": [
    {
     "data": {
      "text/plain": [
       "Sequential(\n",
       "  (0): Conv2d(1, 16, kernel_size=(3, 3), stride=(1, 1), padding=(1, 1))\n",
       "  (1): ReLU()\n",
       ")"
      ]
     },
     "execution_count": 20,
     "metadata": {},
     "output_type": "execute_result"
    }
   ],
   "source": [
    "conv1 = torch.nn.Conv2d(in_channels=1, out_channels=16, kernel_size=(3, 3), padding=1)\n",
    "model.append(conv1)\n",
    "model.append(torch.nn.ReLU())"
   ]
  },
  {
   "cell_type": "code",
   "execution_count": 21,
   "metadata": {
    "execution": {
     "iopub.execute_input": "2025-03-22T11:31:48.964043Z",
     "iopub.status.busy": "2025-03-22T11:31:48.963738Z",
     "iopub.status.idle": "2025-03-22T11:31:48.975462Z",
     "shell.execute_reply": "2025-03-22T11:31:48.974794Z",
     "shell.execute_reply.started": "2025-03-22T11:31:48.964011Z"
    },
    "trusted": true
   },
   "outputs": [
    {
     "data": {
      "text/plain": [
       "Sequential(\n",
       "  (0): Conv2d(1, 16, kernel_size=(3, 3), stride=(1, 1), padding=(1, 1))\n",
       "  (1): ReLU()\n",
       "  (2): MaxPool2d(kernel_size=(2, 2), stride=2, padding=0, dilation=1, ceil_mode=False)\n",
       ")"
      ]
     },
     "execution_count": 21,
     "metadata": {},
     "output_type": "execute_result"
    }
   ],
   "source": [
    "maxpool1= torch.nn.MaxPool2d(kernel_size=(2, 2), stride=2)\n",
    "model.append(maxpool1)"
   ]
  },
  {
   "cell_type": "code",
   "execution_count": 22,
   "metadata": {
    "execution": {
     "iopub.execute_input": "2025-03-22T11:31:48.976628Z",
     "iopub.status.busy": "2025-03-22T11:31:48.976349Z",
     "iopub.status.idle": "2025-03-22T11:31:48.992475Z",
     "shell.execute_reply": "2025-03-22T11:31:48.991649Z",
     "shell.execute_reply.started": "2025-03-22T11:31:48.976601Z"
    },
    "trusted": true
   },
   "outputs": [
    {
     "data": {
      "text/plain": [
       "Sequential(\n",
       "  (0): Conv2d(1, 16, kernel_size=(3, 3), stride=(1, 1), padding=(1, 1))\n",
       "  (1): ReLU()\n",
       "  (2): MaxPool2d(kernel_size=(2, 2), stride=2, padding=0, dilation=1, ceil_mode=False)\n",
       "  (3): Conv2d(16, 32, kernel_size=(3, 3), stride=(1, 1), padding=(1, 1))\n",
       "  (4): ReLU()\n",
       "  (5): MaxPool2d(kernel_size=(2, 2), stride=2, padding=0, dilation=1, ceil_mode=False)\n",
       ")"
      ]
     },
     "execution_count": 22,
     "metadata": {},
     "output_type": "execute_result"
    }
   ],
   "source": [
    "second_conv=torch.nn.Conv2d(in_channels=16, out_channels=32, kernel_size=(3, 3), padding=1)\n",
    "second_pool=torch.nn.MaxPool2d(kernel_size=(2,2),stride=2)\n",
    "model.append(second_conv)\n",
    "model.append(torch.nn.ReLU())\n",
    "model.append(second_pool)"
   ]
  },
  {
   "cell_type": "code",
   "execution_count": 23,
   "metadata": {
    "execution": {
     "iopub.execute_input": "2025-03-22T11:31:48.994902Z",
     "iopub.status.busy": "2025-03-22T11:31:48.994715Z",
     "iopub.status.idle": "2025-03-22T11:31:49.009000Z",
     "shell.execute_reply": "2025-03-22T11:31:49.008279Z",
     "shell.execute_reply.started": "2025-03-22T11:31:48.994886Z"
    },
    "trusted": true
   },
   "outputs": [
    {
     "data": {
      "text/plain": [
       "Sequential(\n",
       "  (0): Conv2d(1, 16, kernel_size=(3, 3), stride=(1, 1), padding=(1, 1))\n",
       "  (1): ReLU()\n",
       "  (2): MaxPool2d(kernel_size=(2, 2), stride=2, padding=0, dilation=1, ceil_mode=False)\n",
       "  (3): Conv2d(16, 32, kernel_size=(3, 3), stride=(1, 1), padding=(1, 1))\n",
       "  (4): ReLU()\n",
       "  (5): MaxPool2d(kernel_size=(2, 2), stride=2, padding=0, dilation=1, ceil_mode=False)\n",
       "  (6): Conv2d(32, 64, kernel_size=(3, 3), stride=(1, 1), padding=(1, 1))\n",
       "  (7): ReLU()\n",
       "  (8): MaxPool2d(kernel_size=(2, 2), stride=2, padding=0, dilation=1, ceil_mode=False)\n",
       "  (9): Flatten(start_dim=1, end_dim=-1)\n",
       ")"
      ]
     },
     "execution_count": 23,
     "metadata": {},
     "output_type": "execute_result"
    }
   ],
   "source": [
    "conv3 = torch.nn.Conv2d(in_channels=32, out_channels=64, kernel_size=(3, 3), padding=1)\n",
    "model.append(conv3)\n",
    "model.append(torch.nn.ReLU())\n",
    "max_pool3 = torch.nn.MaxPool2d(kernel_size=(2, 2), stride=2)\n",
    "model.append(max_pool3)\n",
    "model.append(torch.nn.Flatten())"
   ]
  },
  {
   "cell_type": "code",
   "execution_count": 24,
   "metadata": {
    "execution": {
     "iopub.execute_input": "2025-03-22T11:31:49.010510Z",
     "iopub.status.busy": "2025-03-22T11:31:49.010222Z",
     "iopub.status.idle": "2025-03-22T11:31:49.029738Z",
     "shell.execute_reply": "2025-03-22T11:31:49.028862Z",
     "shell.execute_reply.started": "2025-03-22T11:31:49.010482Z"
    },
    "trusted": true
   },
   "outputs": [
    {
     "data": {
      "text/plain": [
       "Sequential(\n",
       "  (0): Conv2d(1, 16, kernel_size=(3, 3), stride=(1, 1), padding=(1, 1))\n",
       "  (1): ReLU()\n",
       "  (2): MaxPool2d(kernel_size=(2, 2), stride=2, padding=0, dilation=1, ceil_mode=False)\n",
       "  (3): Conv2d(16, 32, kernel_size=(3, 3), stride=(1, 1), padding=(1, 1))\n",
       "  (4): ReLU()\n",
       "  (5): MaxPool2d(kernel_size=(2, 2), stride=2, padding=0, dilation=1, ceil_mode=False)\n",
       "  (6): Conv2d(32, 64, kernel_size=(3, 3), stride=(1, 1), padding=(1, 1))\n",
       "  (7): ReLU()\n",
       "  (8): MaxPool2d(kernel_size=(2, 2), stride=2, padding=0, dilation=1, ceil_mode=False)\n",
       "  (9): Flatten(start_dim=1, end_dim=-1)\n",
       "  (10): Dropout(p=0.5, inplace=False)\n",
       "  (11): Linear(in_features=576, out_features=500, bias=True)\n",
       "  (12): ReLU()\n",
       "  (13): Dropout(p=0.5, inplace=False)\n",
       ")"
      ]
     },
     "execution_count": 24,
     "metadata": {},
     "output_type": "execute_result"
    }
   ],
   "source": [
    "model.append(torch.nn.Dropout())\n",
    "model.append(torch.nn.Linear(in_features=576, out_features=500))  \n",
    "model.append(torch.nn.ReLU())\n",
    "model.append(torch.nn.Dropout())"
   ]
  },
  {
   "cell_type": "code",
   "execution_count": 25,
   "metadata": {
    "execution": {
     "iopub.execute_input": "2025-03-22T11:31:49.030833Z",
     "iopub.status.busy": "2025-03-22T11:31:49.030561Z",
     "iopub.status.idle": "2025-03-22T11:31:49.041558Z",
     "shell.execute_reply": "2025-03-22T11:31:49.040776Z",
     "shell.execute_reply.started": "2025-03-22T11:31:49.030802Z"
    },
    "trusted": true
   },
   "outputs": [
    {
     "data": {
      "text/plain": [
       "Sequential(\n",
       "  (0): Conv2d(1, 16, kernel_size=(3, 3), stride=(1, 1), padding=(1, 1))\n",
       "  (1): ReLU()\n",
       "  (2): MaxPool2d(kernel_size=(2, 2), stride=2, padding=0, dilation=1, ceil_mode=False)\n",
       "  (3): Conv2d(16, 32, kernel_size=(3, 3), stride=(1, 1), padding=(1, 1))\n",
       "  (4): ReLU()\n",
       "  (5): MaxPool2d(kernel_size=(2, 2), stride=2, padding=0, dilation=1, ceil_mode=False)\n",
       "  (6): Conv2d(32, 64, kernel_size=(3, 3), stride=(1, 1), padding=(1, 1))\n",
       "  (7): ReLU()\n",
       "  (8): MaxPool2d(kernel_size=(2, 2), stride=2, padding=0, dilation=1, ceil_mode=False)\n",
       "  (9): Flatten(start_dim=1, end_dim=-1)\n",
       "  (10): Dropout(p=0.5, inplace=False)\n",
       "  (11): Linear(in_features=576, out_features=500, bias=True)\n",
       "  (12): ReLU()\n",
       "  (13): Dropout(p=0.5, inplace=False)\n",
       "  (14): Linear(in_features=500, out_features=10, bias=True)\n",
       ")"
      ]
     },
     "execution_count": 25,
     "metadata": {},
     "output_type": "execute_result"
    }
   ],
   "source": [
    "model.append(torch.nn.Linear(in_features=500, out_features=10))"
   ]
  },
  {
   "cell_type": "code",
   "execution_count": 26,
   "metadata": {
    "execution": {
     "iopub.execute_input": "2025-03-22T11:31:49.042836Z",
     "iopub.status.busy": "2025-03-22T11:31:49.042562Z",
     "iopub.status.idle": "2025-03-22T11:31:49.831421Z",
     "shell.execute_reply": "2025-03-22T11:31:49.830537Z",
     "shell.execute_reply.started": "2025-03-22T11:31:49.042807Z"
    },
    "trusted": true
   },
   "outputs": [
    {
     "data": {
      "text/plain": [
       "==========================================================================================\n",
       "Layer (type:depth-idx)                   Output Shape              Param #\n",
       "==========================================================================================\n",
       "Sequential                               [32, 10]                  --\n",
       "├─Conv2d: 1-1                            [32, 16, 28, 28]          160\n",
       "├─ReLU: 1-2                              [32, 16, 28, 28]          --\n",
       "├─MaxPool2d: 1-3                         [32, 16, 14, 14]          --\n",
       "├─Conv2d: 1-4                            [32, 32, 14, 14]          4,640\n",
       "├─ReLU: 1-5                              [32, 32, 14, 14]          --\n",
       "├─MaxPool2d: 1-6                         [32, 32, 7, 7]            --\n",
       "├─Conv2d: 1-7                            [32, 64, 7, 7]            18,496\n",
       "├─ReLU: 1-8                              [32, 64, 7, 7]            --\n",
       "├─MaxPool2d: 1-9                         [32, 64, 3, 3]            --\n",
       "├─Flatten: 1-10                          [32, 576]                 --\n",
       "├─Dropout: 1-11                          [32, 576]                 --\n",
       "├─Linear: 1-12                           [32, 500]                 288,500\n",
       "├─ReLU: 1-13                             [32, 500]                 --\n",
       "├─Dropout: 1-14                          [32, 500]                 --\n",
       "├─Linear: 1-15                           [32, 10]                  5,010\n",
       "==========================================================================================\n",
       "Total params: 316,806\n",
       "Trainable params: 316,806\n",
       "Non-trainable params: 0\n",
       "Total mult-adds (M): 71.51\n",
       "==========================================================================================\n",
       "Input size (MB): 0.10\n",
       "Forward/backward pass size (MB): 5.75\n",
       "Params size (MB): 1.27\n",
       "Estimated Total Size (MB): 7.12\n",
       "=========================================================================================="
      ]
     },
     "execution_count": 26,
     "metadata": {},
     "output_type": "execute_result"
    }
   ],
   "source": [
    "summary(model, input_size=(32, 1, 28, 28))"
   ]
  },
  {
   "cell_type": "code",
   "execution_count": 27,
   "metadata": {
    "execution": {
     "iopub.execute_input": "2025-03-22T11:31:49.832393Z",
     "iopub.status.busy": "2025-03-22T11:31:49.832152Z",
     "iopub.status.idle": "2025-03-22T11:31:49.838783Z",
     "shell.execute_reply": "2025-03-22T11:31:49.838002Z",
     "shell.execute_reply.started": "2025-03-22T11:31:49.832366Z"
    },
    "trusted": true
   },
   "outputs": [
    {
     "data": {
      "text/plain": [
       "Sequential(\n",
       "  (0): Conv2d(1, 16, kernel_size=(3, 3), stride=(1, 1), padding=(1, 1))\n",
       "  (1): ReLU()\n",
       "  (2): MaxPool2d(kernel_size=(2, 2), stride=2, padding=0, dilation=1, ceil_mode=False)\n",
       "  (3): Conv2d(16, 32, kernel_size=(3, 3), stride=(1, 1), padding=(1, 1))\n",
       "  (4): ReLU()\n",
       "  (5): MaxPool2d(kernel_size=(2, 2), stride=2, padding=0, dilation=1, ceil_mode=False)\n",
       "  (6): Conv2d(32, 64, kernel_size=(3, 3), stride=(1, 1), padding=(1, 1))\n",
       "  (7): ReLU()\n",
       "  (8): MaxPool2d(kernel_size=(2, 2), stride=2, padding=0, dilation=1, ceil_mode=False)\n",
       "  (9): Flatten(start_dim=1, end_dim=-1)\n",
       "  (10): Dropout(p=0.5, inplace=False)\n",
       "  (11): Linear(in_features=576, out_features=500, bias=True)\n",
       "  (12): ReLU()\n",
       "  (13): Dropout(p=0.5, inplace=False)\n",
       "  (14): Linear(in_features=500, out_features=10, bias=True)\n",
       ")"
      ]
     },
     "execution_count": 27,
     "metadata": {},
     "output_type": "execute_result"
    }
   ],
   "source": [
    "loss_fn = nn.CrossEntropyLoss()\n",
    "optimizer = optim.Adam(model.parameters(), lr=0.001)\n",
    "model.to('cuda')"
   ]
  },
  {
   "cell_type": "code",
   "execution_count": 28,
   "metadata": {
    "execution": {
     "iopub.execute_input": "2025-03-22T11:31:49.840106Z",
     "iopub.status.busy": "2025-03-22T11:31:49.839789Z",
     "iopub.status.idle": "2025-03-22T11:31:49.862239Z",
     "shell.execute_reply": "2025-03-22T11:31:49.861371Z",
     "shell.execute_reply.started": "2025-03-22T11:31:49.840080Z"
    },
    "trusted": true
   },
   "outputs": [],
   "source": [
    "def train(model, optimizer, loss_fn, train_loader, val_loader, epochs=10):\n",
    "    for epoch in range(epochs):\n",
    "        model.train()  # Set the model to training mode\n",
    "        running_loss = 0.0\n",
    "        \n",
    "        # Training loop\n",
    "        for data, target in train_loader:\n",
    "            data, target = data.to(\"cuda\"), target.to(\"cuda\")\n",
    "            optimizer.zero_grad()  \n",
    "            outputs = model(data)  # Forward pass\n",
    "            loss = loss_fn(outputs, target)  # Compute loss\n",
    "            loss.backward()  # Backward pass \n",
    "            optimizer.step()  # Update the weights\n",
    "            \n",
    "            running_loss += loss.item()\n",
    "        \n",
    "        # Compute the average loss for this epoch\n",
    "        avg_loss = running_loss / len(train_loader)\n",
    "        \n",
    "        # Validation accuracy\n",
    "        model.eval()  # Set the model to evaluation mode\n",
    "        correct = 0\n",
    "        total = 0\n",
    "        with torch.no_grad():  # No gradients for validation\n",
    "            for data, target in val_loader:\n",
    "                data, target = data.to(\"cuda\"), target.to(\"cuda\")\n",
    "                outputs = model(data)\n",
    "                _, predicted = torch.max(outputs, 1)  # Get the predicted class\n",
    "                total += target.size(0)  # Total number of samples\n",
    "                correct += (predicted == target).sum().item()  # Correct predictions\n",
    "        \n",
    "        val_accuracy = correct / total * 100  # Calculate validation accuracy\n",
    "\n",
    "        # Print the results\n",
    "        print(f'Epoch {epoch+1}/{epochs}, Loss: {avg_loss:.4f}, Validation Accuracy: {val_accuracy:.2f}%')\n"
   ]
  },
  {
   "cell_type": "code",
   "execution_count": 29,
   "metadata": {
    "execution": {
     "iopub.execute_input": "2025-03-22T11:31:49.863262Z",
     "iopub.status.busy": "2025-03-22T11:31:49.863071Z",
     "iopub.status.idle": "2025-03-22T11:33:37.620390Z",
     "shell.execute_reply": "2025-03-22T11:33:37.619396Z",
     "shell.execute_reply.started": "2025-03-22T11:31:49.863246Z"
    },
    "trusted": true
   },
   "outputs": [
    {
     "name": "stdout",
     "output_type": "stream",
     "text": [
      "Epoch 1/10, Loss: 0.2940, Validation Accuracy: 97.81%\n",
      "Epoch 2/10, Loss: 0.1117, Validation Accuracy: 98.28%\n",
      "Epoch 3/10, Loss: 0.0890, Validation Accuracy: 98.72%\n",
      "Epoch 4/10, Loss: 0.0739, Validation Accuracy: 98.74%\n",
      "Epoch 5/10, Loss: 0.0647, Validation Accuracy: 98.98%\n",
      "Epoch 6/10, Loss: 0.0577, Validation Accuracy: 98.83%\n",
      "Epoch 7/10, Loss: 0.0551, Validation Accuracy: 99.02%\n",
      "Epoch 8/10, Loss: 0.0513, Validation Accuracy: 99.07%\n",
      "Epoch 9/10, Loss: 0.0465, Validation Accuracy: 99.12%\n",
      "Epoch 10/10, Loss: 0.0465, Validation Accuracy: 99.24%\n"
     ]
    }
   ],
   "source": [
    "# Call the train function\n",
    "train(model, optimizer, loss_fn, train_loader, val_loader, epochs=10)"
   ]
  },
  {
   "cell_type": "markdown",
   "metadata": {},
   "source": [
    "# Model Prediction"
   ]
  },
  {
   "cell_type": "code",
   "execution_count": 30,
   "metadata": {
    "execution": {
     "iopub.execute_input": "2025-03-22T11:33:37.621949Z",
     "iopub.status.busy": "2025-03-22T11:33:37.621552Z",
     "iopub.status.idle": "2025-03-22T11:33:37.641050Z",
     "shell.execute_reply": "2025-03-22T11:33:37.639958Z",
     "shell.execute_reply.started": "2025-03-22T11:33:37.621894Z"
    },
    "trusted": true
   },
   "outputs": [],
   "source": [
    "dataset_test = datasets.MNIST(root='./data', train=False, download=True, transform=transform)"
   ]
  },
  {
   "cell_type": "code",
   "execution_count": 31,
   "metadata": {
    "execution": {
     "iopub.execute_input": "2025-03-22T11:33:37.642659Z",
     "iopub.status.busy": "2025-03-22T11:33:37.642317Z",
     "iopub.status.idle": "2025-03-22T11:33:37.646888Z",
     "shell.execute_reply": "2025-03-22T11:33:37.645831Z",
     "shell.execute_reply.started": "2025-03-22T11:33:37.642626Z"
    },
    "trusted": true
   },
   "outputs": [
    {
     "name": "stdout",
     "output_type": "stream",
     "text": [
      "10000\n"
     ]
    }
   ],
   "source": [
    "print(len(dataset_test))"
   ]
  },
  {
   "cell_type": "code",
   "execution_count": 32,
   "metadata": {
    "execution": {
     "iopub.execute_input": "2025-03-22T11:33:37.648358Z",
     "iopub.status.busy": "2025-03-22T11:33:37.648053Z",
     "iopub.status.idle": "2025-03-22T11:33:37.663614Z",
     "shell.execute_reply": "2025-03-22T11:33:37.662651Z",
     "shell.execute_reply.started": "2025-03-22T11:33:37.648323Z"
    },
    "trusted": true
   },
   "outputs": [],
   "source": [
    "test_dataloader= DataLoader(dataset_test,batch_size=32)"
   ]
  },
  {
   "cell_type": "code",
   "execution_count": 33,
   "metadata": {
    "execution": {
     "iopub.execute_input": "2025-03-22T11:33:37.664806Z",
     "iopub.status.busy": "2025-03-22T11:33:37.664522Z",
     "iopub.status.idle": "2025-03-22T11:33:39.084029Z",
     "shell.execute_reply": "2025-03-22T11:33:39.083283Z",
     "shell.execute_reply.started": "2025-03-22T11:33:37.664781Z"
    },
    "trusted": true
   },
   "outputs": [
    {
     "name": "stdout",
     "output_type": "stream",
     "text": [
      "Predictions:  [7 2 1 0 4 1 4 9 5 9]\n",
      "True Labels:  [7 2 1 0 4 1 4 9 5 9]\n"
     ]
    }
   ],
   "source": [
    "# Function to predict on the test dataset\n",
    "def predict(model, test_loader, device):\n",
    "    model.eval()  # Set the model to evaluation mode\n",
    "    predictions = []\n",
    "    true_labels = []\n",
    "\n",
    "    with torch.no_grad():  \n",
    "        for data, target in (test_loader):\n",
    "            data, target = data.to(device), target.to(device)  \n",
    "            \n",
    "            # Make predictions\n",
    "            outputs = model(data)\n",
    "            _, predicted = torch.max(outputs, 1)  \n",
    "            \n",
    "            # Store predictions and true labels\n",
    "            predictions.extend(predicted.cpu().numpy())\n",
    "            true_labels.extend(target.cpu().numpy())\n",
    "    \n",
    "    return np.array(predictions), np.array(true_labels)\n",
    "\n",
    "\n",
    "\n",
    "device = torch.device(\"cuda\" if torch.cuda.is_available() else \"cpu\")\n",
    "model.to(device)  # Move model to the appropriate device (GPU or CPU)\n",
    "\n",
    "predictions, true_labels = predict(model, test_dataloader, device)\n",
    "\n",
    "\n",
    "print(\"Predictions: \", predictions[:10])\n",
    "print(\"True Labels: \", true_labels[:10])\n"
   ]
  },
  {
   "cell_type": "markdown",
   "metadata": {},
   "source": [
    "# Confusion Matrix"
   ]
  },
  {
   "cell_type": "code",
   "execution_count": 35,
   "metadata": {
    "execution": {
     "iopub.execute_input": "2025-03-22T11:34:43.471571Z",
     "iopub.status.busy": "2025-03-22T11:34:43.471244Z",
     "iopub.status.idle": "2025-03-22T11:34:43.925867Z",
     "shell.execute_reply": "2025-03-22T11:34:43.925229Z",
     "shell.execute_reply.started": "2025-03-22T11:34:43.471549Z"
    },
    "trusted": true
   },
   "outputs": [],
   "source": [
    "import seaborn as sns"
   ]
  },
  {
   "cell_type": "code",
   "execution_count": 36,
   "metadata": {
    "execution": {
     "iopub.execute_input": "2025-03-22T11:34:44.821316Z",
     "iopub.status.busy": "2025-03-22T11:34:44.820830Z",
     "iopub.status.idle": "2025-03-22T11:34:45.207992Z",
     "shell.execute_reply": "2025-03-22T11:34:45.207015Z",
     "shell.execute_reply.started": "2025-03-22T11:34:44.821286Z"
    },
    "trusted": true
   },
   "outputs": [
    {
     "data": {
      "image/png": "[encoded data removed]",
      "text/plain": [
       "<Figure size 800x600 with 2 Axes>"
      ]
     },
     "metadata": {},
     "output_type": "display_data"
    }
   ],
   "source": [
    "cm = confusion_matrix(true_labels, predictions)\n",
    "\n",
    "# Plot confusion matrix\n",
    "plt.figure(figsize=(8, 6))\n",
    "sns.heatmap(cm, annot=True, fmt='d', cmap='Blues', xticklabels=np.arange(10), yticklabels=np.arange(10))\n",
    "plt.title('Confusion Matrix')\n",
    "plt.xlabel('Predicted Labels')\n",
    "plt.ylabel('True Labels')\n",
    "plt.show()"
   ]
  }
 ],
 "metadata": {
  "kaggle": {
   "accelerator": "none",
   "dataSources": [
    {
     "datasetId": 102285,
     "sourceId": 242592,
     "sourceType": "datasetVersion"
    }
   ],
   "dockerImageVersionId": 30919,
   "isGpuEnabled": false,
   "isInternetEnabled": true,
   "language": "python",
   "sourceType": "notebook"
  },
  "kernelspec": {
   "display_name": "Python 3",
   "language": "python",
   "name": "python3"
  },
  "language_info": {
   "codemirror_mode": {
    "name": "ipython",
    "version": 3
   },
   "file_extension": ".py",
   "mimetype": "text/x-python",
   "name": "python",
   "nbconvert_exporter": "python",
   "pygments_lexer": "ipython3",
   "version": "3.10.12"
  }
 },
 "nbformat": 4,
 "nbformat_minor": 4
}
